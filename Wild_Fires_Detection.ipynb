{
 "cells": [
  {
   "cell_type": "code",
   "execution_count": 1,
   "id": "0237cc06-5556-47ee-a18d-c0082542d032",
   "metadata": {},
   "outputs": [],
   "source": [
    "import tensorflow as tf\n",
    "import keras"
   ]
  },
  {
   "cell_type": "code",
   "execution_count": 2,
   "id": "15d860c8-f323-434f-b4fe-a4a25617ee3b",
   "metadata": {},
   "outputs": [],
   "source": [
    "from keras.preprocessing.image import ImageDataGenerator"
   ]
  },
  {
   "cell_type": "code",
   "execution_count": 13,
   "id": "5a460bb5-d660-4934-8eb8-11ff35a4576e",
   "metadata": {},
   "outputs": [],
   "source": [
    "train_datagen = ImageDataGenerator(rescale = 1/225,\n",
    "                                   shear_range = 0.2,\n",
    "                                   zoom_range = 0.2)"
   ]
  },
  {
   "cell_type": "code",
   "execution_count": 6,
   "id": "0cf1941f-18ba-4d88-b20f-fdc89775fe39",
   "metadata": {},
   "outputs": [
    {
     "data": {
      "text/plain": [
       "'/Users/puli/Data_Science_Portfolio/Wild_Fire_Detection'"
      ]
     },
     "execution_count": 6,
     "metadata": {},
     "output_type": "execute_result"
    }
   ],
   "source": [
    "pwd"
   ]
  },
  {
   "cell_type": "code",
   "execution_count": 17,
   "id": "9316fa2d-afe5-4dbc-8f7e-1782f489f6c1",
   "metadata": {},
   "outputs": [
    {
     "name": "stdout",
     "output_type": "stream",
     "text": [
      "Found 1832 images belonging to 2 classes.\n"
     ]
    }
   ],
   "source": [
    "training_set = train_datagen.flow_from_directory(\"forest_fire/Training_Set\",\n",
    "                                                 target_size = (64, 64),\n",
    "                                                 class_mode = \"binary\")"
   ]
  },
  {
   "cell_type": "code",
   "execution_count": 18,
   "id": "1d79f976-cd00-42de-b7c1-45f0e1be8168",
   "metadata": {},
   "outputs": [
    {
     "data": {
      "text/plain": [
       "{'fire': 0, 'nofire': 1}"
      ]
     },
     "execution_count": 18,
     "metadata": {},
     "output_type": "execute_result"
    }
   ],
   "source": [
    "training_set.class_indices"
   ]
  },
  {
   "cell_type": "code",
   "execution_count": 19,
   "id": "c64328cf-8b7d-49ae-83d4-f886a5a21aa5",
   "metadata": {},
   "outputs": [
    {
     "name": "stdout",
     "output_type": "stream",
     "text": [
      "Found 68 images belonging to 2 classes.\n"
     ]
    }
   ],
   "source": [
    "test_datagen = ImageDataGenerator(rescale = 1/225,\n",
    "                                   shear_range = 0.2,\n",
    "                                   zoom_range = 0.2)\n",
    "\n",
    "test_set = train_datagen.flow_from_directory(\"forest_fire/Testing_Set\",\n",
    "                                                 target_size = (64, 64),\n",
    "                                                 class_mode = \"binary\")"
   ]
  },
  {
   "cell_type": "markdown",
   "id": "a7afce9b-015a-452b-aef9-83f512fbc98b",
   "metadata": {},
   "source": [
    "## Modelling - CNN"
   ]
  },
  {
   "cell_type": "code",
   "execution_count": 21,
   "id": "ad394627-bb82-4264-a211-e3c164718fc4",
   "metadata": {},
   "outputs": [],
   "source": [
    "from keras.models import Sequential\n",
    "classifier = Sequential()"
   ]
  },
  {
   "cell_type": "code",
   "execution_count": 23,
   "id": "ea3cad07-7e2a-43a1-a2fe-c93b23cb7b0c",
   "metadata": {},
   "outputs": [],
   "source": [
    "# Step 1 Convolution\n",
    "from keras.layers import Conv2D\n",
    "classifier.add(Conv2D(input_shape=[64, 64, 3],\n",
    "                      filters = 32, kernel_size = 3, activation = \"relu\"))"
   ]
  },
  {
   "cell_type": "code",
   "execution_count": 24,
   "id": "bb5ae285-a2a7-4a15-a4b7-aa369706cca2",
   "metadata": {},
   "outputs": [],
   "source": [
    "# Step 2 Max Pooling\n",
    "from keras.layers import MaxPooling2D\n",
    "classifier.add(MaxPooling2D(pool_size= 2, strides=2))"
   ]
  },
  {
   "cell_type": "code",
   "execution_count": 25,
   "id": "22d6e958-c536-42e0-9451-5117823a94fe",
   "metadata": {},
   "outputs": [],
   "source": [
    "#Step 3 Flattening\n",
    "from keras.layers import Flatten\n",
    "classifier.add(Flatten())"
   ]
  },
  {
   "cell_type": "code",
   "execution_count": 27,
   "id": "6c18c1e7-36ce-4fb3-a5d0-0ee7e2f0a465",
   "metadata": {},
   "outputs": [],
   "source": [
    "#Step 4 Full Connection\n",
    "from keras.layers import Dense\n",
    "\n",
    "#Hidden layer with 128 neurons\n",
    "classifier.add(Dense(units = 128, activation = \"relu\"))\n",
    "\n",
    "#output layer with 1 neuron\n",
    "classifier.add(Dense(units = 1, activation = \"sigmoid\"))"
   ]
  },
  {
   "cell_type": "code",
   "execution_count": 29,
   "id": "a3fa65f5-51cc-45a1-aafa-24bdefae5563",
   "metadata": {},
   "outputs": [],
   "source": [
    "#Training the CNN odel with train data and testing the model with test data. \n",
    "classifier.compile(optimizer = \"adam\",\n",
    "                   loss = \"binary_crossentropy\",\n",
    "                   metrics = [\"accuracy\"])"
   ]
  },
  {
   "cell_type": "code",
   "execution_count": 31,
   "id": "7e02a337-4999-41c4-9f71-cfdc05b9b4b0",
   "metadata": {},
   "outputs": [
    {
     "name": "stdout",
     "output_type": "stream",
     "text": [
      "Epoch 1/25\n"
     ]
    },
    {
     "name": "stderr",
     "output_type": "stream",
     "text": [
      "2024-05-02 22:33:27.611455: I tensorflow/core/common_runtime/executor.cc:1197] [/device:CPU:0] (DEBUG INFO) Executor start aborting (this does not indicate an error and you can ignore this message): INVALID_ARGUMENT: You must feed a value for placeholder tensor 'Placeholder/_0' with dtype int32\n",
      "\t [[{{node Placeholder/_0}}]]\n",
      "2024-05-02 22:33:27.617788: W tensorflow/tsl/platform/profile_utils/cpu_utils.cc:128] Failed to get CPU frequency: 0 Hz\n"
     ]
    },
    {
     "name": "stdout",
     "output_type": "stream",
     "text": [
      "58/58 [==============================] - 3s 46ms/step - loss: 0.3369 - accuracy: 0.8706 - val_loss: 0.2918 - val_accuracy: 0.8971\n",
      "Epoch 2/25\n",
      " 1/58 [..............................] - ETA: 3s - loss: 0.1751 - accuracy: 0.9062"
     ]
    },
    {
     "name": "stderr",
     "output_type": "stream",
     "text": [
      "2024-05-02 22:33:30.384264: I tensorflow/core/common_runtime/executor.cc:1197] [/device:CPU:0] (DEBUG INFO) Executor start aborting (this does not indicate an error and you can ignore this message): INVALID_ARGUMENT: You must feed a value for placeholder tensor 'Placeholder/_0' with dtype int32\n",
      "\t [[{{node Placeholder/_0}}]]\n"
     ]
    },
    {
     "name": "stdout",
     "output_type": "stream",
     "text": [
      "58/58 [==============================] - 3s 44ms/step - loss: 0.1739 - accuracy: 0.9340 - val_loss: 0.3955 - val_accuracy: 0.8824\n",
      "Epoch 3/25\n",
      "58/58 [==============================] - 2s 39ms/step - loss: 0.1467 - accuracy: 0.9427 - val_loss: 0.2301 - val_accuracy: 0.9265\n",
      "Epoch 4/25\n",
      "58/58 [==============================] - 2s 40ms/step - loss: 0.1456 - accuracy: 0.9432 - val_loss: 0.2648 - val_accuracy: 0.8971\n",
      "Epoch 5/25\n",
      "58/58 [==============================] - 2s 39ms/step - loss: 0.1255 - accuracy: 0.9569 - val_loss: 0.2163 - val_accuracy: 0.9265\n",
      "Epoch 6/25\n",
      "58/58 [==============================] - 2s 40ms/step - loss: 0.1047 - accuracy: 0.9574 - val_loss: 0.2189 - val_accuracy: 0.9412\n",
      "Epoch 7/25\n",
      "58/58 [==============================] - 2s 40ms/step - loss: 0.1080 - accuracy: 0.9607 - val_loss: 0.2013 - val_accuracy: 0.9412\n",
      "Epoch 8/25\n",
      "58/58 [==============================] - 2s 40ms/step - loss: 0.0850 - accuracy: 0.9656 - val_loss: 0.1633 - val_accuracy: 0.9559\n",
      "Epoch 9/25\n",
      "58/58 [==============================] - 2s 41ms/step - loss: 0.0761 - accuracy: 0.9743 - val_loss: 0.1986 - val_accuracy: 0.9265\n",
      "Epoch 10/25\n",
      "58/58 [==============================] - 2s 42ms/step - loss: 0.0686 - accuracy: 0.9760 - val_loss: 0.2812 - val_accuracy: 0.9265\n",
      "Epoch 11/25\n",
      "58/58 [==============================] - 2s 40ms/step - loss: 0.0604 - accuracy: 0.9760 - val_loss: 0.2435 - val_accuracy: 0.9265\n",
      "Epoch 12/25\n",
      "58/58 [==============================] - 3s 48ms/step - loss: 0.0475 - accuracy: 0.9820 - val_loss: 0.2849 - val_accuracy: 0.9265\n",
      "Epoch 13/25\n",
      "58/58 [==============================] - 2s 41ms/step - loss: 0.0424 - accuracy: 0.9831 - val_loss: 0.1906 - val_accuracy: 0.9118\n",
      "Epoch 14/25\n",
      "58/58 [==============================] - 2s 41ms/step - loss: 0.0401 - accuracy: 0.9836 - val_loss: 0.2370 - val_accuracy: 0.9265\n",
      "Epoch 15/25\n",
      "58/58 [==============================] - 3s 43ms/step - loss: 0.0523 - accuracy: 0.9869 - val_loss: 0.2520 - val_accuracy: 0.9118\n",
      "Epoch 16/25\n",
      "58/58 [==============================] - 3s 53ms/step - loss: 0.0315 - accuracy: 0.9885 - val_loss: 0.2090 - val_accuracy: 0.9559\n",
      "Epoch 17/25\n",
      "58/58 [==============================] - 3s 48ms/step - loss: 0.0456 - accuracy: 0.9820 - val_loss: 0.2119 - val_accuracy: 0.9118\n",
      "Epoch 18/25\n",
      "58/58 [==============================] - 3s 43ms/step - loss: 0.0270 - accuracy: 0.9902 - val_loss: 0.2941 - val_accuracy: 0.9265\n",
      "Epoch 19/25\n",
      "58/58 [==============================] - 2s 41ms/step - loss: 0.0244 - accuracy: 0.9902 - val_loss: 0.2484 - val_accuracy: 0.9412\n",
      "Epoch 20/25\n",
      "58/58 [==============================] - 2s 42ms/step - loss: 0.0180 - accuracy: 0.9945 - val_loss: 0.3404 - val_accuracy: 0.9118\n",
      "Epoch 21/25\n",
      "58/58 [==============================] - 3s 48ms/step - loss: 0.0175 - accuracy: 0.9934 - val_loss: 0.1799 - val_accuracy: 0.9412\n",
      "Epoch 22/25\n",
      "58/58 [==============================] - 3s 47ms/step - loss: 0.0154 - accuracy: 0.9934 - val_loss: 0.2510 - val_accuracy: 0.9265\n",
      "Epoch 23/25\n",
      "58/58 [==============================] - 3s 47ms/step - loss: 0.0254 - accuracy: 0.9891 - val_loss: 0.4119 - val_accuracy: 0.8971\n",
      "Epoch 24/25\n",
      "58/58 [==============================] - 3s 45ms/step - loss: 0.0270 - accuracy: 0.9907 - val_loss: 0.2953 - val_accuracy: 0.9559\n",
      "Epoch 25/25\n",
      "58/58 [==============================] - 3s 52ms/step - loss: 0.0128 - accuracy: 0.9962 - val_loss: 0.4549 - val_accuracy: 0.8971\n"
     ]
    },
    {
     "data": {
      "text/plain": [
       "<keras.callbacks.History at 0x15d6e7d10>"
      ]
     },
     "execution_count": 31,
     "metadata": {},
     "output_type": "execute_result"
    }
   ],
   "source": [
    "classifier.fit(x = training_set, validation_data = test_set, epochs = 25)"
   ]
  },
  {
   "cell_type": "markdown",
   "id": "9974fcb3-b2b8-4bde-a743-64ad477903e2",
   "metadata": {},
   "source": [
    "# Evaluation"
   ]
  },
  {
   "cell_type": "code",
   "execution_count": 32,
   "id": "e3e0739d-86e0-4cab-9c44-813b827124ab",
   "metadata": {},
   "outputs": [],
   "source": [
    "import numpy as np\n",
    "from PIL import Image"
   ]
  },
  {
   "cell_type": "code",
   "execution_count": 43,
   "id": "0755934e-1fa0-4d0c-aed2-b7c634d7e9c4",
   "metadata": {},
   "outputs": [
    {
     "name": "stdout",
     "output_type": "stream",
     "text": [
      "<PIL.JpegImagePlugin.JpegImageFile image mode=RGB size=980x551 at 0x15B7EDD90>\n",
      "1/1 [==============================] - 0s 13ms/step\n",
      "[[1.]]\n"
     ]
    }
   ],
   "source": [
    "#load the data\n",
    "test_image = Image.open(\"Pred_Image2.jpg\")\n",
    "\n",
    "print(test_image)\n",
    "\n",
    "#Data Preprocessing\n",
    "test_image = test_image.resize((64,64))\n",
    "test_image = np.array(test_image)\n",
    "test_image = np.expand_dims(test_image,axis=0)\n",
    "\n",
    "#prediction\n",
    "result = classifier.predict(test_image)\n",
    "\n",
    "print(result)\n",
    "#evaluation \n",
    "#if result[0][0] == 1:\n",
    "#    print(\"fire\")\n",
    "#else:\n",
    "#    print(\"No fire\")"
   ]
  },
  {
   "cell_type": "code",
   "execution_count": null,
   "id": "36f7fa2f-47aa-439f-86e6-02ca83cec722",
   "metadata": {},
   "outputs": [],
   "source": []
  }
 ],
 "metadata": {
  "kernelspec": {
   "display_name": "Python 3 (ipykernel)",
   "language": "python",
   "name": "python3"
  },
  "language_info": {
   "codemirror_mode": {
    "name": "ipython",
    "version": 3
   },
   "file_extension": ".py",
   "mimetype": "text/x-python",
   "name": "python",
   "nbconvert_exporter": "python",
   "pygments_lexer": "ipython3",
   "version": "3.11.5"
  }
 },
 "nbformat": 4,
 "nbformat_minor": 5
}
